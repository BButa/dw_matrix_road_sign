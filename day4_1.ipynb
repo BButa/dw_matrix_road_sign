{
  "nbformat": 4,
  "nbformat_minor": 0,
  "metadata": {
    "colab": {
      "name": "day4_1.ipynb",
      "provenance": [],
      "mount_file_id": "19L6Vs_fbZ6PT23sxS5jD--jiHF3xomrH",
      "authorship_tag": "ABX9TyPcz0jPqcK6HmHegXtmbvnc",
      "include_colab_link": true
    },
    "kernelspec": {
      "name": "python3",
      "display_name": "Python 3"
    },
    "accelerator": "GPU"
  },
  "cells": [
    {
      "cell_type": "markdown",
      "metadata": {
        "id": "view-in-github",
        "colab_type": "text"
      },
      "source": [
        "<a href=\"https://colab.research.google.com/github/BButa/dw_matrix_road_sign/blob/master/day4_1.ipynb\" target=\"_parent\"><img src=\"https://colab.research.google.com/assets/colab-badge.svg\" alt=\"Open In Colab\"/></a>"
      ]
    },
    {
      "cell_type": "code",
      "metadata": {
        "id": "iOORta1agzzW",
        "colab_type": "code",
        "outputId": "373bd8e9-2eb7-4300-8a3e-055aa3b116c9",
        "colab": {
          "base_uri": "https://localhost:8080/",
          "height": 51
        }
      },
      "source": [
        "import pandas as pd\n",
        "import numpy as np\n",
        "\n",
        "import tensorflow as tf\n",
        "from tensorflow.keras.models import Sequential\n",
        "from tensorflow.keras.layers import Conv2D, MaxPool2D, Dense, Flatten, Dropout\n",
        "from tensorflow.keras.utils import to_categorical\n",
        "\n",
        "%load_ext tensorboard\n",
        "\n",
        "import os\n",
        "import datetime\n",
        "import matplotlib.pyplot as plt\n",
        "from skimage import color, exposure\n",
        "from sklearn.metrics import accuracy_score"
      ],
      "execution_count": 14,
      "outputs": [
        {
          "output_type": "stream",
          "text": [
            "The tensorboard extension is already loaded. To reload it, use:\n",
            "  %reload_ext tensorboard\n"
          ],
          "name": "stdout"
        }
      ]
    },
    {
      "cell_type": "code",
      "metadata": {
        "id": "VtUiTfYHG3Cr",
        "colab_type": "code",
        "outputId": "89455bf5-2c50-4f4b-9776-4a8b4022f253",
        "colab": {
          "base_uri": "https://localhost:8080/",
          "height": 34
        }
      },
      "source": [
        "cd '/content/drive/My Drive/Colab Notebooks/matrix/matrix_three/dw_matrix_road_sign'"
      ],
      "execution_count": 2,
      "outputs": [
        {
          "output_type": "stream",
          "text": [
            "/content/drive/My Drive/Colab Notebooks/matrix/matrix_three/dw_matrix_road_sign\n"
          ],
          "name": "stdout"
        }
      ]
    },
    {
      "cell_type": "code",
      "metadata": {
        "id": "u0EeWv2YHP7K",
        "colab_type": "code",
        "colab": {}
      },
      "source": [
        "train = pd.read_pickle('data/train.p')\n",
        "test = pd.read_pickle('data/test.p')\n",
        "\n",
        "X_train, y_train = train['features'], train['labels']\n",
        "X_test, y_test = test['features'], test['labels']"
      ],
      "execution_count": 0,
      "outputs": []
    },
    {
      "cell_type": "code",
      "metadata": {
        "id": "9JJPiDXfHjP6",
        "colab_type": "code",
        "outputId": "23ce8288-410b-4ce8-9996-e554277b10f9",
        "colab": {
          "base_uri": "https://localhost:8080/",
          "height": 34
        }
      },
      "source": [
        "len(np.unique(y_train))"
      ],
      "execution_count": 4,
      "outputs": [
        {
          "output_type": "execute_result",
          "data": {
            "text/plain": [
              "43"
            ]
          },
          "metadata": {
            "tags": []
          },
          "execution_count": 4
        }
      ]
    },
    {
      "cell_type": "code",
      "metadata": {
        "id": "1kMcSrgaHoK8",
        "colab_type": "code",
        "colab": {}
      },
      "source": [
        "if y_train.ndim == 1: y_train = to_categorical(y_train)\n",
        "if y_test.ndim == 1: y_test = to_categorical(y_test)"
      ],
      "execution_count": 0,
      "outputs": []
    },
    {
      "cell_type": "code",
      "metadata": {
        "id": "Ks9Yuir-H7eL",
        "colab_type": "code",
        "outputId": "d4357e49-0742-4224-ea3b-5de6fd7c74d1",
        "colab": {
          "base_uri": "https://localhost:8080/",
          "height": 34
        }
      },
      "source": [
        "y_train.shape"
      ],
      "execution_count": 6,
      "outputs": [
        {
          "output_type": "execute_result",
          "data": {
            "text/plain": [
              "(34799, 43)"
            ]
          },
          "metadata": {
            "tags": []
          },
          "execution_count": 6
        }
      ]
    },
    {
      "cell_type": "code",
      "metadata": {
        "id": "TJ96iSErJHyg",
        "colab_type": "code",
        "colab": {}
      },
      "source": [
        "input_shape = X_train.shape[1:]\n",
        "num_classes = y_train.shape[1]"
      ],
      "execution_count": 0,
      "outputs": []
    },
    {
      "cell_type": "code",
      "metadata": {
        "id": "hkBqUEqoIa7z",
        "colab_type": "code",
        "outputId": "8eadfee6-c024-4621-86b9-85255faeacef",
        "colab": {
          "base_uri": "https://localhost:8080/",
          "height": 51
        }
      },
      "source": [
        "\n",
        "\n",
        "model = Sequential ([\n",
        "   Conv2D(filters=64, kernel_size=(3,3), activation='relu', input_shape=input_shape),\n",
        "\n",
        "   Flatten(),   \n",
        "\n",
        "   Dense(num_classes, activation='softmax'),               \n",
        "\n",
        "\n",
        "])\n",
        "model.compile(loss='categorical_crossentropy', optimizer='Adam' ,metrics = ['accuracy'])\n",
        "model.fit(X_train, y_train)"
      ],
      "execution_count": 8,
      "outputs": [
        {
          "output_type": "stream",
          "text": [
            "1088/1088 [==============================] - 5s 5ms/step - loss: 10.0397 - accuracy: 0.7695\n"
          ],
          "name": "stdout"
        },
        {
          "output_type": "execute_result",
          "data": {
            "text/plain": [
              "<tensorflow.python.keras.callbacks.History at 0x7f970a49bb00>"
            ]
          },
          "metadata": {
            "tags": []
          },
          "execution_count": 8
        }
      ]
    },
    {
      "cell_type": "code",
      "metadata": {
        "id": "Yf4PBQGjJo4H",
        "colab_type": "code",
        "colab": {}
      },
      "source": [
        "def get_cnn_v1(input_shape, num_classes):\n",
        "  return Sequential ([\n",
        "   Conv2D(filters=64, kernel_size=(3,3), activation='relu', input_shape=input_shape),\n",
        "\n",
        "   Flatten(),   \n",
        "\n",
        "   Dense(num_classes, activation='softmax'),             \n",
        "   ])\n",
        "  \n",
        "def train_model(model, X_train, y_train, params_fit={}):\n",
        "  model.compile(loss='categorical_crossentropy', optimizer='Adam' ,metrics = ['accuracy'])\n",
        "\n",
        "  logdir = os.path.join('logs', datetime.datetime.now().strftime('%Y%m%d-%H%M%S'))\n",
        "  tensorboard_callback = tf.keras.callbacks.TensorBoard(logdir, histogram_freq=1)\n",
        "\n",
        "  model.fit(\n",
        "      X_train, \n",
        "      y_train,\n",
        "      batch_size =params_fit.get('batch_size', 128),\n",
        "      epochs = params_fit.get('epochs', 5),\n",
        "      verbose=params_fit.get('verbose', 1),\n",
        "      validation_data=params_fit.get('validation_data', (X_train, y_train)),\n",
        "      callbacks= [tensorboard_callback]\n",
        "      \n",
        "      )\n",
        "  return model"
      ],
      "execution_count": 0,
      "outputs": []
    },
    {
      "cell_type": "code",
      "metadata": {
        "id": "hZ1sxODES6Bp",
        "colab_type": "code",
        "outputId": "50427234-f11d-4de7-f05a-1bced203cf02",
        "colab": {
          "base_uri": "https://localhost:8080/",
          "height": 207
        }
      },
      "source": [
        "model = get_cnn_v1(input_shape, num_classes)\n",
        "model_trained = train_model(model, X_train, y_train)"
      ],
      "execution_count": 10,
      "outputs": [
        {
          "output_type": "stream",
          "text": [
            "Epoch 1/5\n",
            "272/272 [==============================] - 5s 18ms/step - loss: 46.9217 - accuracy: 0.7389 - val_loss: 0.2251 - val_accuracy: 0.9467\n",
            "Epoch 2/5\n",
            "272/272 [==============================] - 5s 17ms/step - loss: 0.2357 - accuracy: 0.9451 - val_loss: 0.1386 - val_accuracy: 0.9633\n",
            "Epoch 3/5\n",
            "272/272 [==============================] - 5s 17ms/step - loss: 0.1589 - accuracy: 0.9617 - val_loss: 0.1392 - val_accuracy: 0.9682\n",
            "Epoch 4/5\n",
            "272/272 [==============================] - 5s 17ms/step - loss: 0.1360 - accuracy: 0.9682 - val_loss: 0.1282 - val_accuracy: 0.9722\n",
            "Epoch 5/5\n",
            "272/272 [==============================] - 5s 17ms/step - loss: 0.1137 - accuracy: 0.9738 - val_loss: 0.0649 - val_accuracy: 0.9833\n"
          ],
          "name": "stdout"
        }
      ]
    },
    {
      "cell_type": "code",
      "metadata": {
        "id": "bqCTa3gkoIuu",
        "colab_type": "code",
        "colab": {}
      },
      "source": [
        ""
      ],
      "execution_count": 0,
      "outputs": []
    },
    {
      "cell_type": "code",
      "metadata": {
        "id": "9k3DqxGRJ9dK",
        "colab_type": "code",
        "colab": {
          "base_uri": "https://localhost:8080/",
          "height": 283
        },
        "outputId": "7639cc57-c279-4781-8d5d-f94995be44cb"
      },
      "source": [
        "plt.imshow(X_test[1000])"
      ],
      "execution_count": 12,
      "outputs": [
        {
          "output_type": "execute_result",
          "data": {
            "text/plain": [
              "<matplotlib.image.AxesImage at 0x7f970a1855f8>"
            ]
          },
          "metadata": {
            "tags": []
          },
          "execution_count": 12
        },
        {
          "output_type": "display_data",
          "data": {
            "image/png": "[encoded data removed]",
            "text/plain": [
              "<Figure size 432x288 with 1 Axes>"
            ]
          },
          "metadata": {
            "tags": []
          }
        }
      ]
    },
    {
      "cell_type": "code",
      "metadata": {
        "id": "b_Frp0pULE-P",
        "colab_type": "code",
        "colab": {
          "base_uri": "https://localhost:8080/",
          "height": 34
        },
        "outputId": "f70dcb01-0a07-44a5-82f4-55effa6e7f0f"
      },
      "source": [
        "labels_dict[np.argmax(y_pred_prob[1000])]"
      ],
      "execution_count": 34,
      "outputs": [
        {
          "output_type": "execute_result",
          "data": {
            "text/plain": [
              "'Speed limit (70km/h)'"
            ]
          },
          "metadata": {
            "tags": []
          },
          "execution_count": 34
        }
      ]
    },
    {
      "cell_type": "code",
      "metadata": {
        "id": "XJlPJKf8KT23",
        "colab_type": "code",
        "colab": {}
      },
      "source": [
        "df = pd.read_csv('data/signnames.csv')\n",
        "labels_dict = df.to_dict()['b']"
      ],
      "execution_count": 0,
      "outputs": []
    },
    {
      "cell_type": "code",
      "metadata": {
        "id": "xOcDEDNCKT5s",
        "colab_type": "code",
        "colab": {}
      },
      "source": [
        "plt.bar(range(43), y_pred_prob[1000])"
      ],
      "execution_count": 0,
      "outputs": []
    },
    {
      "cell_type": "code",
      "metadata": {
        "id": "Un0aK4vlJ9PG",
        "colab_type": "code",
        "colab": {}
      },
      "source": [
        "def predict(model_trained, X_test, y_test, scoring =accuracy_score):\n",
        "\n",
        "  y_test_norm =np.argmax(y_test, axis =1)\n",
        "\n",
        "  y_pred_prob=model_trained.predict(X_test)\n",
        "  y_pred = np.argmax(y_pred_prob, axis = 1)\n",
        "\n",
        "  return scoring(y_test_norm, y_pred)"
      ],
      "execution_count": 0,
      "outputs": []
    },
    {
      "cell_type": "code",
      "metadata": {
        "id": "qlclVS0IKT87",
        "colab_type": "code",
        "colab": {
          "base_uri": "https://localhost:8080/",
          "height": 34
        },
        "outputId": "4fbab277-8e7b-4d41-c777-0f542a4529d5"
      },
      "source": [
        "predict(model_trained, X_test, y_test)"
      ],
      "execution_count": 31,
      "outputs": [
        {
          "output_type": "execute_result",
          "data": {
            "text/plain": [
              "0.8453514739229024"
            ]
          },
          "metadata": {
            "tags": []
          },
          "execution_count": 31
        }
      ]
    },
    {
      "cell_type": "code",
      "metadata": {
        "id": "g2zIH2Knp_XN",
        "colab_type": "code",
        "colab": {}
      },
      "source": [
        "def train_and_predict(model):\n",
        "  model_trained = train_model(model, X_train, y_train)\n",
        "  return predict(model_trained, X_test, y_test)\n"
      ],
      "execution_count": 0,
      "outputs": []
    },
    {
      "cell_type": "code",
      "metadata": {
        "id": "fDK0HV9lpGRU",
        "colab_type": "code",
        "colab": {
          "base_uri": "https://localhost:8080/",
          "height": 224
        },
        "outputId": "97fa9889-30ea-47a4-b61b-3cd36f148515"
      },
      "source": [
        "def get_cnn_v3(input_shape, num_classes):\n",
        "  return Sequential ([\n",
        "      Conv2D(filters=32, kernel_size=(3,3), activation='relu', input_shape=input_shape),\n",
        "      MaxPool2D(),\n",
        "      Dropout(0.3),\n",
        "\n",
        "      Conv2D(filters=64, kernel_size=(3,3), activation='relu'),\n",
        "      MaxPool2D(),\n",
        "      Dropout(0.3),\n",
        "\n",
        "      Flatten(),   \n",
        "\n",
        "      Dense(1024, activation='relu'), \n",
        "      Dropout(0.3),\n",
        "\n",
        "      Dense(num_classes, activation='softmax'),             \n",
        "   ])\n",
        "\n",
        "\n",
        "train_and_predict(get_cnn_v3(input_shape, num_classes))"
      ],
      "execution_count": 38,
      "outputs": [
        {
          "output_type": "stream",
          "text": [
            "Epoch 1/5\n",
            "272/272 [==============================] - 4s 14ms/step - loss: 6.8751 - accuracy: 0.2337 - val_loss: 1.9129 - val_accuracy: 0.4781\n",
            "Epoch 2/5\n",
            "272/272 [==============================] - 4s 13ms/step - loss: 1.7540 - accuracy: 0.4897 - val_loss: 1.0151 - val_accuracy: 0.7354\n",
            "Epoch 3/5\n",
            "272/272 [==============================] - 4s 13ms/step - loss: 1.0762 - accuracy: 0.6745 - val_loss: 0.4200 - val_accuracy: 0.9027\n",
            "Epoch 4/5\n",
            "272/272 [==============================] - 4s 13ms/step - loss: 0.6824 - accuracy: 0.7972 - val_loss: 0.2602 - val_accuracy: 0.9478\n",
            "Epoch 5/5\n",
            "272/272 [==============================] - 4s 13ms/step - loss: 0.4509 - accuracy: 0.8599 - val_loss: 0.1266 - val_accuracy: 0.9724\n"
          ],
          "name": "stdout"
        },
        {
          "output_type": "execute_result",
          "data": {
            "text/plain": [
              "0.8859410430839002"
            ]
          },
          "metadata": {
            "tags": []
          },
          "execution_count": 38
        }
      ]
    },
    {
      "cell_type": "code",
      "metadata": {
        "id": "UQRuq9gmpGZu",
        "colab_type": "code",
        "colab": {
          "base_uri": "https://localhost:8080/",
          "height": 224
        },
        "outputId": "58b159b3-14bc-415b-f421-ded10dc826eb"
      },
      "source": [
        "def get_cnn_v4(input_shape, num_classes):\n",
        "  return Sequential ([\n",
        "      Conv2D(filters=32, kernel_size=(3,3), activation='relu', input_shape=input_shape),\n",
        "      Conv2D(filters=32, kernel_size=(3,3), activation='relu'),\n",
        "      MaxPool2D(),\n",
        "      Dropout(0.3),\n",
        "\n",
        "      Conv2D(filters=64, kernel_size=(3,3), activation='relu'),\n",
        "      Conv2D(filters=64, kernel_size=(3,3), activation='relu'),\n",
        "      MaxPool2D(),\n",
        "      Dropout(0.3),\n",
        "\n",
        "      Flatten(),   \n",
        "\n",
        "      Dense(1024, activation='relu'), \n",
        "      Dropout(0.3),\n",
        "\n",
        "      Dense(num_classes, activation='softmax'),             \n",
        "   ])\n",
        "\n",
        "\n",
        "train_and_predict(get_cnn_v4(input_shape, num_classes))"
      ],
      "execution_count": 39,
      "outputs": [
        {
          "output_type": "stream",
          "text": [
            "Epoch 1/5\n",
            "272/272 [==============================] - 5s 20ms/step - loss: 2.5005 - accuracy: 0.4667 - val_loss: 0.5359 - val_accuracy: 0.8630\n",
            "Epoch 2/5\n",
            "272/272 [==============================] - 5s 18ms/step - loss: 0.5992 - accuracy: 0.8185 - val_loss: 0.1515 - val_accuracy: 0.9646\n",
            "Epoch 3/5\n",
            "272/272 [==============================] - 5s 19ms/step - loss: 0.3364 - accuracy: 0.8996 - val_loss: 0.0885 - val_accuracy: 0.9796\n",
            "Epoch 4/5\n",
            "272/272 [==============================] - 5s 19ms/step - loss: 0.2270 - accuracy: 0.9313 - val_loss: 0.0529 - val_accuracy: 0.9861\n",
            "Epoch 5/5\n",
            "272/272 [==============================] - 5s 19ms/step - loss: 0.1712 - accuracy: 0.9476 - val_loss: 0.0295 - val_accuracy: 0.9938\n"
          ],
          "name": "stdout"
        },
        {
          "output_type": "execute_result",
          "data": {
            "text/plain": [
              "0.9605442176870749"
            ]
          },
          "metadata": {
            "tags": []
          },
          "execution_count": 39
        }
      ]
    },
    {
      "cell_type": "code",
      "metadata": {
        "id": "s8ICkZ7apGdX",
        "colab_type": "code",
        "colab": {
          "base_uri": "https://localhost:8080/",
          "height": 224
        },
        "outputId": "f9a35101-c56d-49c4-8fbb-62895a41112f"
      },
      "source": [
        "def get_cnn_v5(input_shape, num_classes):\n",
        "  return Sequential ([\n",
        "      Conv2D(filters=32, kernel_size=(3,3), activation='relu', input_shape=input_shape),\n",
        "      Conv2D(filters=32, kernel_size=(3,3), activation='relu', padding='same'),\n",
        "      MaxPool2D(),\n",
        "      Dropout(0.3),\n",
        "\n",
        "      Conv2D(filters=64, kernel_size=(3,3), activation='relu', padding='same'),\n",
        "      Conv2D(filters=64, kernel_size=(3,3), activation='relu'),\n",
        "      MaxPool2D(),\n",
        "      Dropout(0.3),\n",
        "\n",
        "      Conv2D(filters=64, kernel_size=(3,3), activation='relu', padding='same'),\n",
        "      Conv2D(filters=64, kernel_size=(3,3), activation='relu'),\n",
        "      MaxPool2D(),\n",
        "      Dropout(0.3),\n",
        "\n",
        "      Flatten(),   \n",
        "\n",
        "      Dense(1024, activation='relu'), \n",
        "      Dropout(0.3),\n",
        "\n",
        "      Dense(num_classes, activation='softmax'),             \n",
        "   ])\n",
        "\n",
        "#get_cnn_v5(input_shape, num_classes).summary()\n",
        "train_and_predict(get_cnn_v5(input_shape, num_classes))"
      ],
      "execution_count": 41,
      "outputs": [
        {
          "output_type": "stream",
          "text": [
            "Epoch 1/5\n",
            "272/272 [==============================] - 6s 22ms/step - loss: 2.4620 - accuracy: 0.3296 - val_loss: 0.8297 - val_accuracy: 0.7652\n",
            "Epoch 2/5\n",
            "272/272 [==============================] - 6s 21ms/step - loss: 0.8065 - accuracy: 0.7496 - val_loss: 0.2403 - val_accuracy: 0.9341\n",
            "Epoch 3/5\n",
            "272/272 [==============================] - 6s 21ms/step - loss: 0.3904 - accuracy: 0.8784 - val_loss: 0.1011 - val_accuracy: 0.9760\n",
            "Epoch 4/5\n",
            "272/272 [==============================] - 6s 21ms/step - loss: 0.2637 - accuracy: 0.9189 - val_loss: 0.0662 - val_accuracy: 0.9840\n",
            "Epoch 5/5\n",
            "272/272 [==============================] - 6s 21ms/step - loss: 0.1942 - accuracy: 0.9409 - val_loss: 0.0559 - val_accuracy: 0.9841\n"
          ],
          "name": "stdout"
        },
        {
          "output_type": "execute_result",
          "data": {
            "text/plain": [
              "0.9619047619047619"
            ]
          },
          "metadata": {
            "tags": []
          },
          "execution_count": 41
        }
      ]
    },
    {
      "cell_type": "code",
      "metadata": {
        "id": "CF9toWErpGgv",
        "colab_type": "code",
        "colab": {
          "base_uri": "https://localhost:8080/",
          "height": 224
        },
        "outputId": "7c77273e-99ab-471a-ac5b-fcd8e0c4f5f7"
      },
      "source": [
        "def get_cnn_v6(input_shape, num_classes):\n",
        "  return Sequential ([\n",
        "      Conv2D(filters=32, kernel_size=(3,3), activation='relu', input_shape=input_shape),\n",
        "      Conv2D(filters=32, kernel_size=(3,3), activation='relu', padding='same'),\n",
        "      MaxPool2D(),\n",
        "      Dropout(0.3),\n",
        "\n",
        "      Conv2D(filters=64, kernel_size=(3,3), activation='relu', padding='same'),\n",
        "      Conv2D(filters=64, kernel_size=(3,3), activation='relu'),\n",
        "      MaxPool2D(),\n",
        "      Dropout(0.3),\n",
        "\n",
        "      Conv2D(filters=64, kernel_size=(3,3), activation='relu', padding='same'),\n",
        "      Conv2D(filters=64, kernel_size=(3,3), activation='relu'),\n",
        "      MaxPool2D(),\n",
        "      Dropout(0.3),\n",
        "\n",
        "      Flatten(),   \n",
        "\n",
        "      Dense(1024, activation='relu'), \n",
        "      Dropout(0.3),\n",
        "\n",
        "      Dense(1024, activation='relu'), \n",
        "      Dropout(0.3),\n",
        "\n",
        "      Dense(num_classes, activation='softmax'),             \n",
        "   ])\n",
        "\n",
        "#get_cnn_v5(input_shape, num_classes).summary()\n",
        "train_and_predict(get_cnn_v6(input_shape, num_classes))"
      ],
      "execution_count": 43,
      "outputs": [
        {
          "output_type": "stream",
          "text": [
            "Epoch 1/5\n",
            "272/272 [==============================] - 6s 23ms/step - loss: 2.5101 - accuracy: 0.3123 - val_loss: 0.8042 - val_accuracy: 0.7411\n",
            "Epoch 2/5\n",
            "272/272 [==============================] - 6s 22ms/step - loss: 0.8512 - accuracy: 0.7289 - val_loss: 0.3411 - val_accuracy: 0.8954\n",
            "Epoch 3/5\n",
            "272/272 [==============================] - 6s 22ms/step - loss: 0.4500 - accuracy: 0.8573 - val_loss: 0.1416 - val_accuracy: 0.9547\n",
            "Epoch 4/5\n",
            "272/272 [==============================] - 6s 22ms/step - loss: 0.3298 - accuracy: 0.8996 - val_loss: 0.0767 - val_accuracy: 0.9773\n",
            "Epoch 5/5\n",
            "272/272 [==============================] - 6s 22ms/step - loss: 0.2417 - accuracy: 0.9274 - val_loss: 0.0515 - val_accuracy: 0.9861\n"
          ],
          "name": "stdout"
        },
        {
          "output_type": "execute_result",
          "data": {
            "text/plain": [
              "0.9619047619047619"
            ]
          },
          "metadata": {
            "tags": []
          },
          "execution_count": 43
        }
      ]
    },
    {
      "cell_type": "code",
      "metadata": {
        "id": "FC68jegZtL6Q",
        "colab_type": "code",
        "colab": {
          "base_uri": "https://localhost:8080/",
          "height": 34
        },
        "outputId": "736a68ec-d095-4af1-9bac-1030ccca6ec9"
      },
      "source": [
        "X_train[0].shape"
      ],
      "execution_count": 45,
      "outputs": [
        {
          "output_type": "execute_result",
          "data": {
            "text/plain": [
              "(32, 32, 3)"
            ]
          },
          "metadata": {
            "tags": []
          },
          "execution_count": 45
        }
      ]
    },
    {
      "cell_type": "code",
      "metadata": {
        "id": "3mQssft2pGjz",
        "colab_type": "code",
        "colab": {
          "base_uri": "https://localhost:8080/",
          "height": 283
        },
        "outputId": "20e2a4dc-5619-4750-c1a9-44cc6df9b319"
      },
      "source": [
        "plt.imshow(color.rgb2gray(X_train[0]), cmap=plt.get_cmap('gray'))"
      ],
      "execution_count": 49,
      "outputs": [
        {
          "output_type": "execute_result",
          "data": {
            "text/plain": [
              "<matplotlib.image.AxesImage at 0x7f96cbd3ebe0>"
            ]
          },
          "metadata": {
            "tags": []
          },
          "execution_count": 49
        },
        {
          "output_type": "display_data",
          "data": {
            "image/png": "[encoded data removed]",
            "text/plain": [
              "<Figure size 432x288 with 1 Axes>"
            ]
          },
          "metadata": {
            "tags": []
          }
        }
      ]
    },
    {
      "cell_type": "code",
      "metadata": {
        "id": "uh2IRaKApGmj",
        "colab_type": "code",
        "colab": {}
      },
      "source": [
        "X_train_gray =  color.rgb2gray(X_train).reshape(-1,32,32,1)\n",
        "X_test_gray =  color.rgb2gray(X_test).reshape(-1,32,32,1)"
      ],
      "execution_count": 0,
      "outputs": []
    },
    {
      "cell_type": "code",
      "metadata": {
        "id": "ztPSQYVupGpq",
        "colab_type": "code",
        "colab": {
          "base_uri": "https://localhost:8080/",
          "height": 224
        },
        "outputId": "d98447e7-ca88-48e0-820b-bf279d1086bd"
      },
      "source": [
        "model = get_cnn_v6((32, 32, 1), num_classes)\n",
        "model_trained = train_model(model, X_train_gray,y_train)\n",
        "predict(model_trained, X_test_gray, y_test)"
      ],
      "execution_count": 61,
      "outputs": [
        {
          "output_type": "stream",
          "text": [
            "Epoch 1/5\n",
            "272/272 [==============================] - 6s 23ms/step - loss: 2.6234 - accuracy: 0.2553 - val_loss: 0.8382 - val_accuracy: 0.7359\n",
            "Epoch 2/5\n",
            "272/272 [==============================] - 6s 22ms/step - loss: 0.6211 - accuracy: 0.7973 - val_loss: 0.1474 - val_accuracy: 0.9553\n",
            "Epoch 3/5\n",
            "272/272 [==============================] - 6s 22ms/step - loss: 0.2668 - accuracy: 0.9132 - val_loss: 0.0667 - val_accuracy: 0.9800\n",
            "Epoch 4/5\n",
            "272/272 [==============================] - 6s 22ms/step - loss: 0.1661 - accuracy: 0.9457 - val_loss: 0.0373 - val_accuracy: 0.9886\n",
            "Epoch 5/5\n",
            "272/272 [==============================] - 6s 22ms/step - loss: 0.1290 - accuracy: 0.9592 - val_loss: 0.0268 - val_accuracy: 0.9920\n"
          ],
          "name": "stdout"
        },
        {
          "output_type": "execute_result",
          "data": {
            "text/plain": [
              "0.9687074829931973"
            ]
          },
          "metadata": {
            "tags": []
          },
          "execution_count": 61
        }
      ]
    },
    {
      "cell_type": "code",
      "metadata": {
        "id": "D_F1kGok1Ylg",
        "colab_type": "code",
        "colab": {
          "base_uri": "https://localhost:8080/",
          "height": 283
        },
        "outputId": "de6b9fbf-966f-4d9f-828a-a869e5ca0c26"
      },
      "source": [
        "plt.imshow(X_train[400])"
      ],
      "execution_count": 63,
      "outputs": [
        {
          "output_type": "execute_result",
          "data": {
            "text/plain": [
              "<matplotlib.image.AxesImage at 0x7f96cb688ac8>"
            ]
          },
          "metadata": {
            "tags": []
          },
          "execution_count": 63
        },
        {
          "output_type": "display_data",
          "data": {
            "image/png": "[encoded data removed]",
            "text/plain": [
              "<Figure size 432x288 with 1 Axes>"
            ]
          },
          "metadata": {
            "tags": []
          }
        }
      ]
    },
    {
      "cell_type": "code",
      "metadata": {
        "id": "QCnzK-dw2Irx",
        "colab_type": "code",
        "colab": {}
      },
      "source": [
        "def preproc_img(img):\n",
        "  hsv = color.rgb2hsv(img)\n",
        "  hsv[:,:,2]= exposure.equalize_adapthist(hsv[:,:,2])\n",
        "  img= color.hsv2rgb(hsv)\n",
        "  return img"
      ],
      "execution_count": 0,
      "outputs": []
    },
    {
      "cell_type": "code",
      "metadata": {
        "id": "MdcDb_1gpGs9",
        "colab_type": "code",
        "colab": {
          "base_uri": "https://localhost:8080/",
          "height": 283
        },
        "outputId": "1939e215-d463-49d5-a523-cb97d02ddafa"
      },
      "source": [
        "plt.imshow(preproc_img(X_train[400]))"
      ],
      "execution_count": 67,
      "outputs": [
        {
          "output_type": "execute_result",
          "data": {
            "text/plain": [
              "<matplotlib.image.AxesImage at 0x7f96cb60f5f8>"
            ]
          },
          "metadata": {
            "tags": []
          },
          "execution_count": 67
        },
        {
          "output_type": "display_data",
          "data": {
            "image/png": "[encoded data removed]",
            "text/plain": [
              "<Figure size 432x288 with 1 Axes>"
            ]
          },
          "metadata": {
            "tags": []
          }
        }
      ]
    },
    {
      "cell_type": "code",
      "metadata": {
        "id": "gouo1OSLWl03",
        "colab_type": "code",
        "colab": {}
      },
      "source": [
        "def get_cnn_v2(input_shape, num_classes):\n",
        "  return Sequential ([\n",
        "   Conv2D(filters=32, kernel_size=(3,3), activation='relu', input_shape=input_shape),\n",
        "   MaxPool2D(),\n",
        "   Dropout(0.5),\n",
        "\n",
        "   Conv2D(filters=64, kernel_size=(3,3), activation='relu'),\n",
        "   MaxPool2D(),\n",
        "   Dropout(0.3),\n",
        "\n",
        "\n",
        "   Flatten(),   \n",
        "   Dense(1024, activation='relu'), \n",
        "   Dropout(0.5),\n",
        "   Dense(num_classes, activation='softmax'),             \n",
        "   ])\n",
        "  \n",
        "#get_cnn_v2(input_shape, num_classes).summary()"
      ],
      "execution_count": 0,
      "outputs": []
    },
    {
      "cell_type": "code",
      "metadata": {
        "id": "qNMqE9yTY5E4",
        "colab_type": "code",
        "colab": {}
      },
      "source": [
        ""
      ],
      "execution_count": 0,
      "outputs": []
    }
  ]
}